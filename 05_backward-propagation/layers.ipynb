{
 "cells": [
  {
   "cell_type": "markdown",
   "id": "0ff00682",
   "metadata": {},
   "source": [
    "## 誤差逆伝播とレイヤーの実装\n",
    "\n",
    "### 乗算レイヤー\n",
    "\n",
    "$z = x \\times y$ のとき、 $\\frac{\\partial z}{\\partial x} = y$, $\\frac{\\partial z}{\\partial y} = x$ であるから、乗算を行うノードは $x$ と $y$ の値を保持しておく必要がある。"
   ]
  },
  {
   "cell_type": "code",
   "execution_count": 1,
   "id": "1620389e",
   "metadata": {},
   "outputs": [],
   "source": [
    "# 乗算を行うレイヤー\n",
    "class MulLayer:\n",
    "\n",
    "    def __init__(self):\n",
    "        self.x = None\n",
    "        self.y = None\n",
    "    \n",
    "    def forward(self, x, y):\n",
    "        # x, yの値を保持\n",
    "        self.x = x\n",
    "        self.y = y\n",
    "        # 計算結果を返す\n",
    "        return x * y\n",
    "    \n",
    "    def backward(self, dout):\n",
    "        # 保持していたx, yの値と、下流から逆伝播してきた微分値を掛け合わせて返す\n",
    "        dx = dout * self.y\n",
    "        dy = dout * self.x\n",
    "        return dx, dy"
   ]
  },
  {
   "cell_type": "code",
   "execution_count": 2,
   "id": "2e59f8d0",
   "metadata": {},
   "outputs": [
    {
     "name": "stdout",
     "output_type": "stream",
     "text": [
      "220.00000000000003\n",
      "2.2 110.00000000000001 200\n"
     ]
    }
   ],
   "source": [
    "# リンゴの問題を実装\n",
    "apple = 100\n",
    "apple_num = 2\n",
    "tax = 1.1\n",
    "\n",
    "# レイヤー\n",
    "mul_apple_layer = MulLayer()\n",
    "mul_tax_layer = MulLayer()\n",
    "\n",
    "# 順伝播（金額計算）\n",
    "apple_price = mul_apple_layer.forward(apple, apple_num)\n",
    "price = mul_tax_layer.forward(apple_price, tax)\n",
    "print(price)\n",
    "\n",
    "# 逆伝播\n",
    "dprice = 1\n",
    "dapple_price, dtax = mul_tax_layer.backward(dprice)\n",
    "dapple, dapple_num = mul_apple_layer.backward(dapple_price)\n",
    "print(dapple, dapple_num, dtax)"
   ]
  }
 ],
 "metadata": {
  "kernelspec": {
   "display_name": "venv",
   "language": "python",
   "name": "python3"
  },
  "language_info": {
   "codemirror_mode": {
    "name": "ipython",
    "version": 3
   },
   "file_extension": ".py",
   "mimetype": "text/x-python",
   "name": "python",
   "nbconvert_exporter": "python",
   "pygments_lexer": "ipython3",
   "version": "3.12.3"
  }
 },
 "nbformat": 4,
 "nbformat_minor": 5
}
