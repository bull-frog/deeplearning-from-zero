{
 "cells": [
  {
   "cell_type": "markdown",
   "id": "0ff00682",
   "metadata": {},
   "source": [
    "## 誤差逆伝播とレイヤーの実装"
   ]
  },
  {
   "cell_type": "code",
   "execution_count": 17,
   "id": "75184939",
   "metadata": {},
   "outputs": [],
   "source": [
    "import numpy as np"
   ]
  },
  {
   "cell_type": "markdown",
   "id": "5291a25c",
   "metadata": {},
   "source": [
    "### 乗算レイヤー\n",
    "\n",
    "$z = x \\times y$ のとき、 $\\frac{\\partial z}{\\partial x} = y$, $\\frac{\\partial z}{\\partial y} = x$ であるから、乗算を行うノードは $x$ と $y$ の値を保持しておく必要がある。"
   ]
  },
  {
   "cell_type": "code",
   "execution_count": 18,
   "id": "1620389e",
   "metadata": {},
   "outputs": [],
   "source": [
    "# 乗算を行うレイヤー\n",
    "class MulLayer:\n",
    "\n",
    "    def __init__(self):\n",
    "        self.x = None\n",
    "        self.y = None\n",
    "\n",
    "    def forward(self, x, y):\n",
    "        # x, yの値を保持\n",
    "        self.x = x\n",
    "        self.y = y\n",
    "        # 計算結果を返す\n",
    "        return x * y\n",
    "\n",
    "    def backward(self, dout):\n",
    "        # 保持していたx, yの値と、下流から逆伝播してきた微分値を掛け合わせて返す\n",
    "        dx = dout * self.y\n",
    "        dy = dout * self.x\n",
    "        return dx, dy"
   ]
  },
  {
   "cell_type": "code",
   "execution_count": 19,
   "id": "2e59f8d0",
   "metadata": {},
   "outputs": [
    {
     "name": "stdout",
     "output_type": "stream",
     "text": [
      "220.00000000000003\n",
      "2.2 110.00000000000001 200\n"
     ]
    }
   ],
   "source": [
    "# リンゴの問題を実装\n",
    "apple = 100\n",
    "apple_num = 2\n",
    "tax = 1.1\n",
    "\n",
    "# レイヤー\n",
    "mulAppleLayer = MulLayer()\n",
    "mulTaxLayer = MulLayer()\n",
    "\n",
    "# 順伝播（金額計算）\n",
    "apple_price = mulAppleLayer.forward(apple, apple_num)\n",
    "price = mulTaxLayer.forward(apple_price, tax)\n",
    "print(price)\n",
    "\n",
    "# 逆伝播\n",
    "dprice = 1\n",
    "dapple_price, dtax = mulTaxLayer.backward(dprice)\n",
    "dapple, dapple_num = mulAppleLayer.backward(dapple_price)\n",
    "print(dapple, dapple_num, dtax)"
   ]
  },
  {
   "cell_type": "markdown",
   "id": "34b1c3b9",
   "metadata": {},
   "source": [
    "### 加算レイヤー\n",
    "\n",
    "微分値は $1$ なので、何も特別な操作をする必要はない"
   ]
  },
  {
   "cell_type": "code",
   "execution_count": 20,
   "id": "0133738a",
   "metadata": {},
   "outputs": [],
   "source": [
    "# 加算を行うレイヤー\n",
    "class AddLayer:\n",
    "\n",
    "    def __init__(self):\n",
    "        # 初期化処理は特に必要ない\n",
    "        pass\n",
    "\n",
    "    def forward(self, x, y):\n",
    "        return x + y\n",
    "\n",
    "    def backword(self, dout):\n",
    "        # 入力された微分値をそのまま返す\n",
    "        return dout, dout"
   ]
  },
  {
   "cell_type": "markdown",
   "id": "fd2d521b",
   "metadata": {},
   "source": [
    "### リンゴとみかんの問題を実装"
   ]
  },
  {
   "cell_type": "code",
   "execution_count": 21,
   "id": "669b5476",
   "metadata": {},
   "outputs": [
    {
     "name": "stdout",
     "output_type": "stream",
     "text": [
      "合計金額：715.0000000000001\n",
      "110.00000000000001 2.2 3.3000000000000003 165.0 650\n"
     ]
    }
   ],
   "source": [
    "apple = 100\n",
    "appleNum = 2\n",
    "orange = 150\n",
    "orangeNum = 3\n",
    "tax = 1.1\n",
    "\n",
    "# レイヤーを定義\n",
    "mulAppleLayer = MulLayer()\n",
    "mulOrangeLayer = MulLayer()\n",
    "addAppleOrangeLayer = AddLayer()\n",
    "mulTaxLayer = MulLayer()\n",
    "\n",
    "# 順伝播\n",
    "applePrice = mulAppleLayer.forward(apple, appleNum)\n",
    "orangePrice = mulOrangeLayer.forward(orange, orangeNum)\n",
    "subtotal = addAppleOrangeLayer.forward(applePrice, orangePrice)\n",
    "total = mulTaxLayer.forward(subtotal, tax)\n",
    "print(f\"合計金額：{total}\")\n",
    "\n",
    "# 逆伝播\n",
    "dprice = 1  # 初期の微分値\n",
    "dSubtotal, dTax = mulTaxLayer.backward(dprice)  # 小計、税率\n",
    "dApplePrice, dOrangePrice = addAppleOrangeLayer.backword(\n",
    "    dSubtotal\n",
    ")  # リンゴ合計、みかん合計\n",
    "dOrange, dOrangeNum = mulOrangeLayer.backward(\n",
    "    dOrangePrice\n",
    ")  # みかんの単価、みかんの個数\n",
    "dApple, dAppleNum = mulAppleLayer.backward(dApplePrice)  # みかんの単価、みかんの個数\n",
    "print(dAppleNum, dApple, dOrange, dOrangeNum, dTax)"
   ]
  },
  {
   "cell_type": "markdown",
   "id": "ba134025",
   "metadata": {},
   "source": [
    "### ReLUレイヤー"
   ]
  },
  {
   "cell_type": "code",
   "execution_count": null,
   "id": "af191f12",
   "metadata": {},
   "outputs": [],
   "source": [
    "# ReLUレイヤー\n",
    "class ReLU:\n",
    "\n",
    "    def __init__(self):\n",
    "        self.mask = None\n",
    "\n",
    "    def forward(self, x: np.ndarray):\n",
    "        self.mask = x <= 0  # 行列の要素が0以下の場所を記録\n",
    "        out = x.copy()\n",
    "        out[self.mask] = 0\n",
    "        return out\n",
    "\n",
    "    def backward(self, dout: np.ndarray):\n",
    "        dout[self.mask] = 0\n",
    "        return dout"
   ]
  },
  {
   "cell_type": "markdown",
   "id": "a786feca",
   "metadata": {},
   "source": [
    "### Sigmoidレイヤー"
   ]
  },
  {
   "cell_type": "code",
   "execution_count": null,
   "id": "82b84086",
   "metadata": {},
   "outputs": [],
   "source": [
    "# Sigmoidレイヤー\n",
    "class Sigmoid:\n",
    "\n",
    "    def __init__(self) -> None:\n",
    "        self.out = None\n",
    "\n",
    "    def forward(self, x: np.ndarray):\n",
    "        # ブロードキャストで、要素ごとに計算\n",
    "        self.out = 1 / (1 + np.exp(-x))\n",
    "        return self.out\n",
    "\n",
    "    def backward(self, dout: np.ndarray):\n",
    "        return dout * (1.0 - self.out) * self.out  # type: ignore"
   ]
  }
 ],
 "metadata": {
  "kernelspec": {
   "display_name": "venv",
   "language": "python",
   "name": "python3"
  },
  "language_info": {
   "codemirror_mode": {
    "name": "ipython",
    "version": 3
   },
   "file_extension": ".py",
   "mimetype": "text/x-python",
   "name": "python",
   "nbconvert_exporter": "python",
   "pygments_lexer": "ipython3",
   "version": "3.12.0"
  }
 },
 "nbformat": 4,
 "nbformat_minor": 5
}
