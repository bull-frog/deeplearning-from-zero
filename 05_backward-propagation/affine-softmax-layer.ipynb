{
 "cells": [
  {
   "cell_type": "markdown",
   "id": "bb45c7a5",
   "metadata": {},
   "source": [
    "## Affine / Softmaxレイヤーの実装"
   ]
  },
  {
   "cell_type": "code",
   "execution_count": 5,
   "id": "e242a94c",
   "metadata": {},
   "outputs": [],
   "source": [
    "import numpy as np"
   ]
  },
  {
   "cell_type": "markdown",
   "id": "75b9f9d7",
   "metadata": {},
   "source": [
    "### Affine レイヤー\n",
    "\n",
    "ニューラルネットワークの順伝播では、\n",
    "\n",
    "$$Y = X W + B$$\n",
    "\n",
    "を用いた。このような変換をアフィン変換といい、その処理を行うレイヤーを Affineレイヤーと呼ぶ。"
   ]
  },
  {
   "cell_type": "code",
   "execution_count": null,
   "id": "f94bff02",
   "metadata": {},
   "outputs": [],
   "source": [
    "# バッチ版Affineレイヤー\n",
    "class Affine:\n",
    "\n",
    "    def __init__(self, W: np.ndarray, b: np.ndarray):\n",
    "        self.W = W\n",
    "        self.b = b\n",
    "        self.x = None\n",
    "        self.dW = None\n",
    "        self.db = None\n",
    "\n",
    "    def forward(self, x: np.ndarray):\n",
    "        self.x = x\n",
    "        return np.dot(x, self.W) + self.b\n",
    "\n",
    "    def backward(self, dout: np.ndarray):\n",
    "        dx = np.dot(dout, self.W.T)\n",
    "        self.dW = np.dot(self.x.T, dout)\n",
    "        # dBはY1からYnまでの偏微分の和\n",
    "        self.db = np.sum(dout, axis=0)\n",
    "        return dx"
   ]
  },
  {
   "cell_type": "markdown",
   "id": "39871cd8",
   "metadata": {},
   "source": [
    "### Softmax-with-Loss レイヤー"
   ]
  },
  {
   "cell_type": "code",
   "execution_count": null,
   "id": "783ebc6a",
   "metadata": {},
   "outputs": [],
   "source": [
    "def cross_entropy_error(y, t):\n",
    "    \"\"\"予測値yと正解ラベルtの交差エントロピー誤差を返す。１次元のベクトルに対しても、行列（ミニバッチ）に対しても適用可。\"\"\"\n",
    "\n",
    "    # バッチがない場合（yが１次元のベクトルの場合）も、1×n 行列に変換しておく\n",
    "    if y.ndim == 1:\n",
    "        t = t.reshape(1, t.size)\n",
    "        y = y.reshape(1, y.size)\n",
    "\n",
    "    # 教師データがone-hot-vectorの場合、正解ラベルのインデックスに変換する\n",
    "    if t.size == y.size:\n",
    "        t = t.argmax(axis=1)\n",
    "\n",
    "    batch_size = y.shape[0]\n",
    "    return -np.sum(np.log(y[np.arange(batch_size), t] + 1e-7)) / batch_size\n",
    "\n",
    "\n",
    "def softmax(x):\n",
    "    \"\"\"ミニバッチに対しても適用できるsoftmax関数\"\"\"\n",
    "    x = x - np.max(x, axis=-1, keepdims=True)  # オーバーフロー対策\n",
    "    return np.exp(x) / np.sum(np.exp(x), axis=-1, keepdims=True)"
   ]
  },
  {
   "cell_type": "code",
   "execution_count": null,
   "id": "7fa6984b",
   "metadata": {},
   "outputs": [],
   "source": [
    "# バッチ対応で実装している\n",
    "class SoftmaxWithLoss:\n",
    "\n",
    "    def __init__(self):\n",
    "        self.loss = None\n",
    "        self.y = None\n",
    "        self.t = None\n",
    "\n",
    "    def forward(self, x: np.ndarray, t: np.ndarray):\n",
    "        self.t = t\n",
    "        self.y = softmax(x)\n",
    "        self.loss = cross_entropy_error(self.y, self.t)\n",
    "        return self.loss\n",
    "\n",
    "    def backward(self, dout=1):\n",
    "        batch_size = self.t.shape[0]\n",
    "        # バッチサイズで割り、データ１個あたりの誤差が伝播するようにしている\n",
    "        dx = (self.y - self.t) / batch_size\n",
    "        return dx"
   ]
  }
 ],
 "metadata": {
  "kernelspec": {
   "display_name": "venv",
   "language": "python",
   "name": "python3"
  },
  "language_info": {
   "codemirror_mode": {
    "name": "ipython",
    "version": 3
   },
   "file_extension": ".py",
   "mimetype": "text/x-python",
   "name": "python",
   "nbconvert_exporter": "python",
   "pygments_lexer": "ipython3",
   "version": "3.12.0"
  }
 },
 "nbformat": 4,
 "nbformat_minor": 5
}
