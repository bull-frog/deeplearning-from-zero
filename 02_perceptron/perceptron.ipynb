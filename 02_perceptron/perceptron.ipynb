{
 "cells": [
  {
   "cell_type": "markdown",
   "id": "92124cf5",
   "metadata": {},
   "source": [
    "## ２章　パーセプトロン\n",
    "\n",
    "### パーセプトロンの実装\n"
   ]
  },
  {
   "cell_type": "code",
   "execution_count": 22,
   "id": "a2b39579",
   "metadata": {},
   "outputs": [],
   "source": [
    "import numpy as np"
   ]
  },
  {
   "cell_type": "code",
   "execution_count": 23,
   "id": "af5276fc",
   "metadata": {},
   "outputs": [],
   "source": [
    "def makePerceptron(w1: float, w2: float, b: float):\n",
    "    \"\"\"重みを指定して、パーセプトロン関数を返す関数。\"\"\"\n",
    "\n",
    "    def perceptron(x1: float, x2: float):\n",
    "        \"\"\"w1x1 + w2x2 + b > 0 のときに1、そうでないときは0を返す関数。\"\"\"\n",
    "        x = np.array([x1, x2])\n",
    "        w = np.array([w1, w2])\n",
    "        return 1 if (np.sum(x * w) + b > 0) else 0\n",
    "\n",
    "    return perceptron\n",
    "\n",
    "\n",
    "# ANDゲートを実現するパーセプトロン\n",
    "AND = makePerceptron(0.5, 0.5, -0.7)\n",
    "\n",
    "# NANDゲートを実現するパーセプトロン\n",
    "NAND = makePerceptron(-0.5, -0.5, 0.7)\n",
    "\n",
    "# ORゲートを実現するパーセプトロン\n",
    "OR = makePerceptron(0.5, 0.5, -0.2)"
   ]
  },
  {
   "cell_type": "code",
   "execution_count": 24,
   "id": "15be3fd9",
   "metadata": {},
   "outputs": [
    {
     "name": "stdout",
     "output_type": "stream",
     "text": [
      "0\n",
      "0\n",
      "0\n",
      "1\n"
     ]
    }
   ],
   "source": [
    "# ANDパーセプトロンをテスト\n",
    "print(AND(0, 0))\n",
    "print(AND(0, 1))\n",
    "print(AND(1, 0))\n",
    "print(AND(1, 1))"
   ]
  },
  {
   "cell_type": "code",
   "execution_count": 25,
   "id": "b1bbc143",
   "metadata": {},
   "outputs": [
    {
     "name": "stdout",
     "output_type": "stream",
     "text": [
      "1\n",
      "1\n",
      "1\n",
      "0\n"
     ]
    }
   ],
   "source": [
    "# NANDパーセプトロンをテスト\n",
    "print(NAND(0, 0))\n",
    "print(NAND(0, 1))\n",
    "print(NAND(1, 0))\n",
    "print(NAND(1, 1))"
   ]
  },
  {
   "cell_type": "code",
   "execution_count": 26,
   "id": "a4fd2eb0",
   "metadata": {},
   "outputs": [
    {
     "name": "stdout",
     "output_type": "stream",
     "text": [
      "0\n",
      "1\n",
      "1\n",
      "1\n"
     ]
    }
   ],
   "source": [
    "# ORパーセプトロンをテスト\n",
    "print(OR(0, 0))\n",
    "print(OR(0, 1))\n",
    "print(OR(1, 0))\n",
    "print(OR(1, 1))"
   ]
  },
  {
   "cell_type": "markdown",
   "id": "de8f35ff",
   "metadata": {},
   "source": [
    "### 多層パーセプトロン"
   ]
  },
  {
   "cell_type": "code",
   "execution_count": 27,
   "id": "61bbd6db",
   "metadata": {},
   "outputs": [],
   "source": [
    "def XOR(x1: int, x2: int):\n",
    "    '''x1 = x2 のとき0、それ以外のとき1を返す関数。'''\n",
    "    s1 = NAND(x1, x2)\n",
    "    s2 = OR(x1, x2)\n",
    "    return AND(s1, s2)"
   ]
  },
  {
   "cell_type": "code",
   "execution_count": 28,
   "id": "03c99e72",
   "metadata": {},
   "outputs": [
    {
     "name": "stdout",
     "output_type": "stream",
     "text": [
      "0\n",
      "1\n",
      "1\n",
      "0\n"
     ]
    }
   ],
   "source": [
    "# XORパーセプトロンをテスト\n",
    "print(XOR(0, 0))\n",
    "print(XOR(0, 1))\n",
    "print(XOR(1, 0))\n",
    "print(XOR(1, 1))"
   ]
  }
 ],
 "metadata": {
  "kernelspec": {
   "display_name": "venv",
   "language": "python",
   "name": "python3"
  },
  "language_info": {
   "codemirror_mode": {
    "name": "ipython",
    "version": 3
   },
   "file_extension": ".py",
   "mimetype": "text/x-python",
   "name": "python",
   "nbconvert_exporter": "python",
   "pygments_lexer": "ipython3",
   "version": "3.12.3"
  }
 },
 "nbformat": 4,
 "nbformat_minor": 5
}
