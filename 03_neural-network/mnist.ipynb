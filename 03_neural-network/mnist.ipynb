{
 "cells": [
  {
   "cell_type": "markdown",
   "id": "86f48913",
   "metadata": {},
   "source": [
    "## 手書き数字認識の実装\n"
   ]
  },
  {
   "cell_type": "code",
   "execution_count": 128,
   "id": "9ecc75dc",
   "metadata": {},
   "outputs": [],
   "source": [
    "import sys, os\n",
    "\n",
    "sys.path.append(\"../deep-learning-from-scratch-master\")\n",
    "from dataset.mnist import load_mnist\n",
    "import numpy as np\n",
    "from PIL import Image\n",
    "import matplotlib.pyplot as plt\n",
    "import pickle"
   ]
  },
  {
   "cell_type": "markdown",
   "id": "7985d003",
   "metadata": {},
   "source": [
    "### MNIST データ\n",
    "\n",
    "MNISTデータについて\n",
    "\n",
    "- 訓練画像が60000枚、テスト画像が10000枚\n",
    "- 28×28のグレースケール画像で、各ピクセルは0〜255の値\n",
    "\n",
    "`load_mnist`関数\n",
    "\n",
    "- `flatten=True`とした場合、784個の要素からなる１次元配列を返す。\n",
    "- `normalize=True`とした場合、ピクセルの値を255で割って0〜1の範囲に変換される。\n"
   ]
  },
  {
   "cell_type": "code",
   "execution_count": 129,
   "id": "52cecae0",
   "metadata": {},
   "outputs": [
    {
     "name": "stdout",
     "output_type": "stream",
     "text": [
      "(60000, 784)\n",
      "(60000,)\n",
      "(10000, 784)\n",
      "(10000,)\n"
     ]
    }
   ],
   "source": [
    "# MNISTデータを読み込む\n",
    "(x_train, t_train), (x_test, t_test) = load_mnist(flatten=True, normalize=False)\n",
    "\n",
    "# それぞれのデータの形状を出力\n",
    "print(x_train.shape)\n",
    "print(t_train.shape)\n",
    "print(x_test.shape)\n",
    "print(t_test.shape)"
   ]
  },
  {
   "cell_type": "code",
   "execution_count": 130,
   "id": "3d47619f",
   "metadata": {},
   "outputs": [
    {
     "data": {
      "image/png": "[encoded data removed]",
      "text/plain": [
       "<Figure size 100x100 with 1 Axes>"
      ]
     },
     "metadata": {},
     "output_type": "display_data"
    }
   ],
   "source": [
    "# 読み込んだ画像を表示する\n",
    "def imgShow(img: np.ndarray, title: str = \"\"):\n",
    "    pilImg = Image.fromarray(np.uint8(img))\n",
    "    plt.figure(figsize=(1, 1))\n",
    "    im = plt.imshow(pilImg)\n",
    "    plt.axis(\"off\")\n",
    "    plt.title(title)\n",
    "    plt.show()\n",
    "\n",
    "\n",
    "# 試しに訓練画像の１枚目を表示してみる\n",
    "img = x_train[0].reshape(28, 28)\n",
    "imgShow(img=img, title=f\"{t_train[0]}\")"
   ]
  },
  {
   "cell_type": "markdown",
   "id": "1fe4c3c8",
   "metadata": {},
   "source": [
    "### ネットワークの構造を定義\n",
    "\n",
    "- ３層のネットワーク\n",
    "- 入力層のニューロンは $28^2 = 784$ 個\n",
    "- １つ目の隠れ層のニューロンは50個\n",
    "- ２つ目の隠れ層のニューロンは100個\n",
    "  - これらの値は任意性がある\n",
    "- 出力層のニューロンは10個（10クラス分類なので）"
   ]
  },
  {
   "cell_type": "code",
   "execution_count": 131,
   "id": "b9434d1d",
   "metadata": {},
   "outputs": [],
   "source": [
    "# サンプルとして配布されている重み付きのネットワークを取得する\n",
    "def initNetwork():\n",
    "    with open('../deep-learning-from-scratch-master/ch03/sample_weight.pkl', 'rb') as f:\n",
    "        network = pickle.load(f)\n",
    "    return network"
   ]
  },
  {
   "cell_type": "code",
   "execution_count": 132,
   "id": "3e02b009",
   "metadata": {},
   "outputs": [],
   "source": [
    "# 活性化関数の定義\n",
    "def sigmoid(x: np.ndarray):\n",
    "    return 1 / (1 + np.exp(-x))\n",
    "\n",
    "# softmax関数の定義\n",
    "def softmax(a: np.ndarray) -> np.ndarray:\n",
    "    c = np.max(a)\n",
    "    exp_a = np.exp(a - c)\n",
    "    y = exp_a / np.sum(exp_a)\n",
    "    return y"
   ]
  },
  {
   "cell_type": "code",
   "execution_count": 133,
   "id": "7a2e20c6",
   "metadata": {},
   "outputs": [],
   "source": [
    "# 入力信号を出力に変換するプロセスをまとめて実装した関数\n",
    "def predict(network, x: np.ndarray):\n",
    "    W1, W2, W3 = network['W1'], network['W2'], network['W3']\n",
    "    b1, b2, b3 = network['b1'], network['b2'], network['b3']\n",
    "\n",
    "    a1 = np.dot(x, W1) + b1\n",
    "    z1 = sigmoid(a1)\n",
    "    a2 = np.dot(z1, W2) + b2\n",
    "    z2 = sigmoid(a2)\n",
    "    a3 = np.dot(z2, W3) + b3\n",
    "    y = softmax(a3)\n",
    "\n",
    "    return y"
   ]
  },
  {
   "cell_type": "markdown",
   "id": "6c407ca7",
   "metadata": {},
   "source": [
    "### 精度の検証\n"
   ]
  },
  {
   "cell_type": "code",
   "execution_count": 134,
   "id": "9623306f",
   "metadata": {},
   "outputs": [
    {
     "name": "stdout",
     "output_type": "stream",
     "text": [
      "Accuracy: 0.9352\n"
     ]
    }
   ],
   "source": [
    "# MNISTデータを（正規化して）読み込む\n",
    "(x_train, t_train), (x_test, t_test) = load_mnist(flatten=True, normalize=True)\n",
    "\n",
    "network = initNetwork()\n",
    "\n",
    "# 正解数\n",
    "correctCount = 0\n",
    "\n",
    "# テストデータをすべて予測し、正解率を計測する\n",
    "for i in range(len(x_test)):\n",
    "\n",
    "    # 与えられたネットワークによって、テスト画像の数値を予測\n",
    "    y = predict(network=network, x=x_test[i])\n",
    "\n",
    "    # yの最大値のインデックスを取得\n",
    "    prediction = np.argmax(y)\n",
    "\n",
    "    # 正解していたら記録\n",
    "    if prediction == t_test[i]:\n",
    "        correctCount += 1\n",
    "\n",
    "print(f'Accuracy: {float(correctCount) / len(x_test)}')"
   ]
  }
 ],
 "metadata": {
  "kernelspec": {
   "display_name": "venv",
   "language": "python",
   "name": "python3"
  },
  "language_info": {
   "codemirror_mode": {
    "name": "ipython",
    "version": 3
   },
   "file_extension": ".py",
   "mimetype": "text/x-python",
   "name": "python",
   "nbconvert_exporter": "python",
   "pygments_lexer": "ipython3",
   "version": "3.12.3"
  }
 },
 "nbformat": 4,
 "nbformat_minor": 5
}
