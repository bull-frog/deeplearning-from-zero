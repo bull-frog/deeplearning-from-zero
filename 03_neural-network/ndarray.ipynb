{
 "cells": [
  {
   "cell_type": "markdown",
   "id": "1d301eed",
   "metadata": {},
   "source": [
    "## NDArray の使い方\n"
   ]
  },
  {
   "cell_type": "code",
   "execution_count": 95,
   "id": "fcc19e57",
   "metadata": {},
   "outputs": [],
   "source": [
    "import numpy as np"
   ]
  },
  {
   "cell_type": "markdown",
   "id": "c030d968",
   "metadata": {},
   "source": [
    "### 基本的な使い方\n"
   ]
  },
  {
   "cell_type": "code",
   "execution_count": 96,
   "id": "2c25e678",
   "metadata": {},
   "outputs": [
    {
     "name": "stdout",
     "output_type": "stream",
     "text": [
      "[1 2 3 4]\n",
      "1\n",
      "(4,)\n"
     ]
    }
   ],
   "source": [
    "# 一次元配列\n",
    "A = np.array([1, 2, 3, 4])\n",
    "\n",
    "# Aを出力\n",
    "print(A)\n",
    "\n",
    "# Aの次元を出力\n",
    "print(np.ndim(A))\n",
    "\n",
    "# Aの形状を出力\n",
    "print(A.shape)"
   ]
  },
  {
   "cell_type": "code",
   "execution_count": 97,
   "id": "e3316cb4",
   "metadata": {},
   "outputs": [
    {
     "name": "stdout",
     "output_type": "stream",
     "text": [
      "[[1 2]\n",
      " [3 4]\n",
      " [5 6]]\n",
      "2\n",
      "(3, 2)\n"
     ]
    }
   ],
   "source": [
    "# 二次元配列\n",
    "B = np.array([[1, 2], [3, 4], [5, 6]])\n",
    "\n",
    "# Bを出力\n",
    "print(B)\n",
    "\n",
    "# Bの次元を出力\n",
    "print(np.ndim(B))\n",
    "\n",
    "# Bの形状を出力\n",
    "print(B.shape)"
   ]
  },
  {
   "cell_type": "markdown",
   "id": "729748b7",
   "metadata": {},
   "source": [
    "### 行列計算\n"
   ]
  },
  {
   "cell_type": "code",
   "execution_count": 98,
   "id": "81f15583",
   "metadata": {},
   "outputs": [
    {
     "name": "stdout",
     "output_type": "stream",
     "text": [
      "[[19 22]\n",
      " [43 50]]\n",
      "[[ 5 12]\n",
      " [21 32]]\n"
     ]
    }
   ],
   "source": [
    "A = np.array([[1, 2], [3, 4]])\n",
    "B = np.array([[5, 6], [7, 8]])\n",
    "\n",
    "# AとBの行列積を計算\n",
    "print(np.dot(A, B))\n",
    "\n",
    "# AとBの要素ごとの積を計算\n",
    "print(A * B)"
   ]
  },
  {
   "cell_type": "markdown",
   "id": "7a809182",
   "metadata": {},
   "source": [
    "### 配列に適用できる活性化関数\n"
   ]
  },
  {
   "cell_type": "code",
   "execution_count": 99,
   "id": "cc482891",
   "metadata": {},
   "outputs": [
    {
     "name": "stdout",
     "output_type": "stream",
     "text": [
      "[-5 -4 -3 -2 -1  0  1  2  3  4  5]\n"
     ]
    }
   ],
   "source": [
    "# テストに使う配列を用意しておく\n",
    "x = np.arange(11) - 5\n",
    "print(x)"
   ]
  },
  {
   "cell_type": "code",
   "execution_count": 100,
   "id": "e0ef3e31",
   "metadata": {},
   "outputs": [
    {
     "name": "stdout",
     "output_type": "stream",
     "text": [
      "[0 0 0 0 0 0 1 1 1 1 1]\n"
     ]
    }
   ],
   "source": [
    "# ステップ関数\n",
    "def stepFunction(x: np.ndarray):\n",
    "    y = x > 0\n",
    "    return y.astype(np.int_)\n",
    "\n",
    "print(stepFunction(x))"
   ]
  },
  {
   "cell_type": "code",
   "execution_count": 101,
   "id": "b3b0e2c8",
   "metadata": {},
   "outputs": [
    {
     "name": "stdout",
     "output_type": "stream",
     "text": [
      "[0.00669285 0.01798621 0.04742587 0.11920292 0.26894142 0.5\n",
      " 0.73105858 0.88079708 0.95257413 0.98201379 0.99330715]\n"
     ]
    }
   ],
   "source": [
    "# シグモイド関数\n",
    "def sigmoid(x: np.ndarray):\n",
    "    return 1 / (1 + np.exp(-x))\n",
    "\n",
    "print(sigmoid(x))"
   ]
  },
  {
   "cell_type": "code",
   "execution_count": 102,
   "id": "adcd8e70",
   "metadata": {},
   "outputs": [
    {
     "name": "stdout",
     "output_type": "stream",
     "text": [
      "[0 0 0 0 0 0 1 2 3 4 5]\n"
     ]
    }
   ],
   "source": [
    "# ReLU関数\n",
    "def relu(x: np.ndarray):\n",
    "    return np.maximum(0, x)\n",
    "\n",
    "print(relu(x))"
   ]
  }
 ],
 "metadata": {
  "kernelspec": {
   "display_name": "venv",
   "language": "python",
   "name": "python3"
  },
  "language_info": {
   "codemirror_mode": {
    "name": "ipython",
    "version": 3
   },
   "file_extension": ".py",
   "mimetype": "text/x-python",
   "name": "python",
   "nbconvert_exporter": "python",
   "pygments_lexer": "ipython3",
   "version": "3.12.3"
  }
 },
 "nbformat": 4,
 "nbformat_minor": 5
}
