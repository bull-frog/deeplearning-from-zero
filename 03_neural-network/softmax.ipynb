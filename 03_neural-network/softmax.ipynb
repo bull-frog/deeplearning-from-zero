{
 "cells": [
  {
   "cell_type": "markdown",
   "id": "f0d465af",
   "metadata": {},
   "source": [
    "## Softmax関数の実装\n",
    "\n",
    "出力は0〜1、出力の総和は1となるので、確率として解釈できる。\n",
    "softmax関数を通してもニューロンどうしの大小関係は変わらないので、単に最大のニューロンを分類結果として利用し、softmax関数を省略することも一般的（```exp```の計算にコストがかかるため）\n",
    "\n",
    "### 単純な実装"
   ]
  },
  {
   "cell_type": "code",
   "execution_count": 3,
   "id": "8c40053f",
   "metadata": {},
   "outputs": [],
   "source": [
    "import numpy as np"
   ]
  },
  {
   "cell_type": "code",
   "execution_count": 4,
   "id": "42053f8d",
   "metadata": {},
   "outputs": [
    {
     "name": "stdout",
     "output_type": "stream",
     "text": [
      "[0.01821127 0.24519181 0.73659691]\n",
      "[nan nan nan]\n"
     ]
    },
    {
     "name": "stderr",
     "output_type": "stream",
     "text": [
      "/tmp/ipykernel_8594/3591856642.py:2: RuntimeWarning: overflow encountered in exp\n",
      "  exp_a = np.exp(a)\n",
      "/tmp/ipykernel_8594/3591856642.py:3: RuntimeWarning: invalid value encountered in divide\n",
      "  y = exp_a / np.sum(exp_a)\n"
     ]
    }
   ],
   "source": [
    "def softmax(a: np.ndarray) -> np.ndarray:\n",
    "    exp_a = np.exp(a)\n",
    "    y = exp_a / np.sum(exp_a)\n",
    "    return y\n",
    "\n",
    "# 小さい数値ならオーバーフローを起こす心配はない\n",
    "print(softmax(np.array([0.3,2.9,4.0])))\n",
    "\n",
    "# 大きい数値だとオーバーフローする\n",
    "print(softmax(np.array([1010,1000,990])))"
   ]
  },
  {
   "cell_type": "markdown",
   "id": "c5500f4c",
   "metadata": {},
   "source": [
    "### オーバーフロー対策を考慮した実装\n",
    "\n",
    "$y_k = \\frac{\\exp(a_k - a_{\\text{max}})}{\\sum_{i=1}^n \\exp (a_i - a_{\\text{max}})}$ として、大きな数の指数関数をとることによるオーバーフローを防ぐ"
   ]
  },
  {
   "cell_type": "code",
   "execution_count": 5,
   "id": "9041e94f",
   "metadata": {},
   "outputs": [
    {
     "name": "stdout",
     "output_type": "stream",
     "text": [
      "[0.01821127 0.24519181 0.73659691]\n",
      "[9.99954600e-01 4.53978686e-05 2.06106005e-09]\n"
     ]
    }
   ],
   "source": [
    "def softmax(a: np.ndarray) -> np.ndarray:\n",
    "    c = np.max(a)\n",
    "    exp_a = np.exp(a - c)\n",
    "    y = exp_a / np.sum(exp_a)\n",
    "    return y\n",
    "\n",
    "# 小さい数値なら先ほどと同様の結果に\n",
    "print(softmax(np.array([0.3,2.9,4.0])))\n",
    "\n",
    "# 大きい数値でもオーバーフローしない\n",
    "print(softmax(np.array([1010,1000,990])))"
   ]
  }
 ],
 "metadata": {
  "kernelspec": {
   "display_name": "venv",
   "language": "python",
   "name": "python3"
  },
  "language_info": {
   "codemirror_mode": {
    "name": "ipython",
    "version": 3
   },
   "file_extension": ".py",
   "mimetype": "text/x-python",
   "name": "python",
   "nbconvert_exporter": "python",
   "pygments_lexer": "ipython3",
   "version": "3.12.3"
  }
 },
 "nbformat": 4,
 "nbformat_minor": 5
}
