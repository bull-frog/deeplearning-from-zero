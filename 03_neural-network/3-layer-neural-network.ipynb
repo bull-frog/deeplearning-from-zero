{
 "cells": [
  {
   "cell_type": "markdown",
   "id": "f1b91954",
   "metadata": {},
   "source": [
    "## ３層ニューラルネットワークの実装\n",
    "\n",
    "### 記号の確認\n",
    "\n",
    "$w_{12}^{(1)}$: 第 1 層目の重みで、前層の 2 番目のニューロンから、次層の 1 番目のニューロンへの重みを表す。\n",
    "\n",
    "バイアスも考えて、重み付き和（活性化関数の入力）は $a_1^{(1)} = w_{11}^{(1)} x_1 + w_{12}^{(1)} x_2 + b_1^{(1)}$ のようになる。\n",
    "\n",
    "これを行列積を用いてまとめて表すと、$A^{(1)} = X W^{(1)} + B^{(1)}$\n",
    "\n",
    "ただし、\n",
    "$A^{(1)} = \\begin{bmatrix} a_1^{(1)} & a_2^{(1)} & a_3^{(1)} \\end{bmatrix}$,\n",
    "$X = \\begin{bmatrix} x_1 & x_2 \\end{bmatrix}$,\n",
    "$W = \\begin{bmatrix} w_{11}^{(1)} & w_{21}^{(1)} & w_{31}^{(1)} \\\\ w_{12}^{(1)} & w_{22}^{(1)} & w_{32}^{(1)} \\end{bmatrix}$,\n",
    "$B = \\begin{bmatrix} b_1^{(1)} & b_2^{(1)} & b_3^{(1)} \\end{bmatrix}$\n"
   ]
  },
  {
   "cell_type": "markdown",
   "id": "8f557fde",
   "metadata": {},
   "source": [
    "### 適当な数値で実装\n"
   ]
  },
  {
   "cell_type": "code",
   "execution_count": 1,
   "id": "ae839584",
   "metadata": {},
   "outputs": [],
   "source": [
    "import numpy as np"
   ]
  },
  {
   "cell_type": "code",
   "execution_count": 2,
   "id": "5c610d8e",
   "metadata": {},
   "outputs": [],
   "source": [
    "# 活性化関数の定義\n",
    "def sigmoid(x: np.ndarray):\n",
    "    return 1 / (1 + np.exp(-x))"
   ]
  },
  {
   "cell_type": "code",
   "execution_count": 3,
   "id": "4337ad13",
   "metadata": {},
   "outputs": [],
   "source": [
    "# 入力層\n",
    "X = np.array([1.0, 0.5])"
   ]
  },
  {
   "cell_type": "code",
   "execution_count": 4,
   "id": "6d333a79",
   "metadata": {},
   "outputs": [
    {
     "name": "stdout",
     "output_type": "stream",
     "text": [
      "A1: \n",
      "[0.3 0.7 1.1]\n",
      "\n",
      "Z1: \n",
      "[0.57444252 0.66818777 0.75026011]\n"
     ]
    }
   ],
   "source": [
    "# 第1層\n",
    "W1 = np.array([[0.1, 0.3, 0.5], [0.2, 0.4, 0.6]])\n",
    "B1 = np.array([0.1, 0.2, 0.3])\n",
    "\n",
    "A1 = np.dot(X, W1) + B1\n",
    "print('A1: ')\n",
    "print(A1)\n",
    "\n",
    "Z1 = sigmoid(A1)\n",
    "print('\\nZ1: ')\n",
    "print(Z1)"
   ]
  },
  {
   "cell_type": "code",
   "execution_count": 5,
   "id": "55835d0e",
   "metadata": {},
   "outputs": [
    {
     "name": "stdout",
     "output_type": "stream",
     "text": [
      "A2: \n",
      "[0.51615984 1.21402696]\n",
      "\n",
      "Z2: \n",
      "[0.62624937 0.7710107 ]\n"
     ]
    }
   ],
   "source": [
    "# 第2層\n",
    "W2 = np.array([[0.1,0.4],[0.2,0.5],[0.3,0.6]])\n",
    "B2 = np.array([0.1,0.2])\n",
    "\n",
    "A2 = np.dot(Z1, W2) + B2\n",
    "print('A2: ')\n",
    "print(A2)\n",
    "\n",
    "Z2 = sigmoid(A2)\n",
    "print('\\nZ2: ')\n",
    "print(Z2)"
   ]
  },
  {
   "cell_type": "code",
   "execution_count": 6,
   "id": "2d584be0",
   "metadata": {},
   "outputs": [
    {
     "name": "stdout",
     "output_type": "stream",
     "text": [
      "Y: \n",
      "[0.31682708 0.69627909]\n"
     ]
    }
   ],
   "source": [
    "# 第3層\n",
    "W3 = np.array([[0.1,0.3],[0.2,0.4]])\n",
    "B3 = np.array([0.1,0.2])\n",
    "\n",
    "A3 = np.dot(Z2, W3) + B3\n",
    "Y = A3 # 活性化関数はこれまでとは異なり、恒等関数（与えられた入力をそのまま出力する）\n",
    "print('Y: ')\n",
    "print(Y)"
   ]
  },
  {
   "cell_type": "markdown",
   "id": "0f32bf10",
   "metadata": {},
   "source": [
    "### まとめて書く"
   ]
  },
  {
   "cell_type": "code",
   "execution_count": null,
   "id": "6dcc928f",
   "metadata": {},
   "outputs": [
    {
     "name": "stdout",
     "output_type": "stream",
     "text": [
      "[0.31682708 0.69627909]\n"
     ]
    }
   ],
   "source": [
    "def initNetwork():\n",
    "    '''３層のネットワークを作成して返す'''\n",
    "    network = {}\n",
    "    network['W1'] = np.array([[0.1, 0.3, 0.5], [0.2, 0.4, 0.6]])\n",
    "    network['b1'] = np.array([0.1, 0.2, 0.3])\n",
    "    network['W2'] = np.array([[0.1,0.4],[0.2,0.5],[0.3,0.6]])\n",
    "    network['b2'] = np.array([0.1,0.2])\n",
    "    network['W3'] = np.array([[0.1,0.3],[0.2,0.4]])\n",
    "    network['b3'] = np.array([0.1,0.2])\n",
    "    return network\n",
    "\n",
    "def forward(network, x):\n",
    "    '''入力信号を出力に変換するプロセスをまとめて実装した関数'''\n",
    "    W1, W2, W3 = network['W1'], network['W2'], network['W3']\n",
    "    b1, b2, b3 = network['b1'], network['b2'], network['b3']\n",
    "\n",
    "    a1 = np.dot(x, W1) + b1\n",
    "    z1 = sigmoid(a1)\n",
    "    a2 = np.dot(z1, W2) + b2\n",
    "    z2 = sigmoid(a2)\n",
    "    a3 = np.dot(z2, W3) + b3\n",
    "    y = a3\n",
    "\n",
    "    return y\n",
    "\n",
    "network = initNetwork()\n",
    "x = np.array([1.0,0.5])\n",
    "y = forward(network=network, x=x)\n",
    "print(y)"
   ]
  }
 ],
 "metadata": {
  "kernelspec": {
   "display_name": "venv",
   "language": "python",
   "name": "python3"
  },
  "language_info": {
   "codemirror_mode": {
    "name": "ipython",
    "version": 3
   },
   "file_extension": ".py",
   "mimetype": "text/x-python",
   "name": "python",
   "nbconvert_exporter": "python",
   "pygments_lexer": "ipython3",
   "version": "3.12.3"
  }
 },
 "nbformat": 4,
 "nbformat_minor": 5
}
