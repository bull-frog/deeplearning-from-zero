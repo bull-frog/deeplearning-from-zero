{
 "cells": [
  {
   "cell_type": "markdown",
   "id": "60c3b13b",
   "metadata": {},
   "source": [
    "## 行列を用いたニューラルネットワークの実装\n",
    "\n",
    "### シンプルな場合\n",
    "\n",
    "バイアスと活性化関数は無視し、重みだけがある場合を考える"
   ]
  },
  {
   "cell_type": "code",
   "execution_count": 5,
   "id": "19d5673d",
   "metadata": {},
   "outputs": [],
   "source": [
    "import numpy as np"
   ]
  },
  {
   "cell_type": "markdown",
   "id": "79940a40",
   "metadata": {},
   "source": [
    "- 第0層は、$x_1$と$x_2$の２つ → 配列 ```X``` に格納\n",
    "- 第1層は、$y_1$、$y_2$、$y_3$の３つ → 出力は配列 ```Y```\n",
    "  - $y_1 = w_{11} x_1 + w_{21} x_2$ などと計算\n",
    "- 重みは、$w_{11}$、$w_{21}$、$w_{12}$、$w_{22}$、$w_{13}$、$w_{23}$の６つ → 行列 ```W``` に格納"
   ]
  },
  {
   "cell_type": "code",
   "execution_count": 6,
   "id": "8a6f77e2",
   "metadata": {},
   "outputs": [
    {
     "name": "stdout",
     "output_type": "stream",
     "text": [
      "X: \n",
      "[1 2]\n",
      "\n",
      "W: \n",
      "[[1 3 5]\n",
      " [2 4 6]]\n"
     ]
    }
   ],
   "source": [
    "# 第0層を表す配列X\n",
    "X = np.array([1,2])\n",
    "print('X: ')\n",
    "print(X)\n",
    "\n",
    "# 重みを表す配列W\n",
    "W = np.array([[1,3,5], [2,4,6]])\n",
    "print('\\nW: ')\n",
    "print(W)"
   ]
  },
  {
   "cell_type": "code",
   "execution_count": 7,
   "id": "8b55f8b3",
   "metadata": {},
   "outputs": [
    {
     "name": "stdout",
     "output_type": "stream",
     "text": [
      "[ 5 11 17]\n"
     ]
    }
   ],
   "source": [
    "# 出力層を表す配列Yを計算\n",
    "Y = np.dot(X, W)\n",
    "print(Y)"
   ]
  }
 ],
 "metadata": {
  "kernelspec": {
   "display_name": "venv",
   "language": "python",
   "name": "python3"
  },
  "language_info": {
   "codemirror_mode": {
    "name": "ipython",
    "version": 3
   },
   "file_extension": ".py",
   "mimetype": "text/x-python",
   "name": "python",
   "nbconvert_exporter": "python",
   "pygments_lexer": "ipython3",
   "version": "3.12.3"
  }
 },
 "nbformat": 4,
 "nbformat_minor": 5
}
