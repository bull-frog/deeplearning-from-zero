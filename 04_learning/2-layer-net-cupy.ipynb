{
 "cells": [
  {
   "cell_type": "markdown",
   "id": "9728fd95",
   "metadata": {},
   "source": [
    "## ２層ニューラルネットワーク（CuPyを利用）\n",
    "\n",
    "### 各種メソッドの定義"
   ]
  },
  {
   "cell_type": "code",
   "execution_count": 1,
   "id": "d4682d66",
   "metadata": {},
   "outputs": [
    {
     "name": "stdout",
     "output_type": "stream",
     "text": [
      "env: CUDA_PATH=/usr/local/cuda\n"
     ]
    }
   ],
   "source": [
    "import numpy as np\n",
    "import cupy as cp\n",
    "import sys, os\n",
    "sys.path.append(\"../deep-learning-from-scratch-master\")\n",
    "\n",
    "%env CUDA_PATH=/usr/local/cuda"
   ]
  },
  {
   "cell_type": "code",
   "execution_count": null,
   "id": "e2831dee",
   "metadata": {},
   "outputs": [],
   "source": [
    "def sigmoid_cp(x: cp.ndarray | float):\n",
    "    '''スカラーにも任意次元の配列にも適用可能なシグモイド関数'''\n",
    "    return 1 / (1 + cp.exp(-x))\n",
    "\n",
    "def cross_entropy_error_cp(y, t):\n",
    "    '''予測値yと正解ラベルtの交差エントロピー誤差を返す。１次元のベクトルに対しても、行列（ミニバッチ）に対しても適用可。'''\n",
    "    \n",
    "    # バッチがない場合（yが１次元のベクトルの場合）も、1×n 行列に変換しておく\n",
    "    if y.ndim == 1:\n",
    "        t = t.reshape(1, t.size)\n",
    "        y = y.reshape(1, y.size)\n",
    "    \n",
    "    # 教師データがone-hot-vectorの場合、正解ラベルのインデックスに変換する\n",
    "    if t.size == y.size:\n",
    "        t = t.argmax(axis=1)\n",
    "    \n",
    "    batch_size = y.shape[0]\n",
    "    return -cp.sum(cp.log(y[cp.arange(batch_size), t] + 1e-7)) / batch_size\n",
    "\n",
    "def softmax_cp(x):\n",
    "    '''ミニバッチに対しても適用できるsoftmax関数'''\n",
    "    x = x - cp.max(x, axis=-1, keepdims=True)   # オーバーフロー対策\n",
    "    return cp.exp(x) / cp.sum(cp.exp(x), axis=-1, keepdims=True)\n",
    "\n",
    "def numerical_gradient(f, x):\n",
    "    '''行列に対して勾配を計算する関数'''\n",
    "    h = 1e-4\n",
    "    grad = np.zeros_like(x)\n",
    "\n",
    "    # 多次元配列xのインデックスをタプル形式で返すイテレータ\n",
    "    it = np.nditer(x, flags=['multi_index'])\n",
    "\n",
    "    while not it.finished:\n",
    "\n",
    "        # 次のインデックスを取得\n",
    "        idx = it.multi_index\n",
    "\n",
    "        # x_idxの現在の値を保持\n",
    "        tmp = x[idx]\n",
    "\n",
    "        # x_idx + h のときの値を計算\n",
    "        x[idx] = tmp + h\n",
    "        fxh1 = f(x)\n",
    "\n",
    "        # x_idx - h のときの値を計算\n",
    "        x[idx] = tmp - h\n",
    "        fxh2 = f(x)\n",
    "\n",
    "        # x_idxに関する偏微分を計算\n",
    "        grad[idx] = (fxh1 - fxh2) / (2 * h)\n",
    "\n",
    "        # xの値を元に戻す\n",
    "        x[idx] = tmp\n",
    "\n",
    "        # 次のインデックス\n",
    "        it.iternext()\n",
    "    \n",
    "    return grad"
   ]
  },
  {
   "cell_type": "markdown",
   "id": "c42417b8",
   "metadata": {},
   "source": [
    "### `TwoLayerNet` クラスの定義"
   ]
  },
  {
   "cell_type": "code",
   "execution_count": null,
   "id": "40d26f58",
   "metadata": {},
   "outputs": [],
   "source": [
    "class TwoLayerNet:\n",
    "\n",
    "    def __init__(self, input_size: int, hidden_size: int, output_size: int, weight_init_std:float=0.01):\n",
    "        '''重みを初期化する'''\n",
    "        self.params = {}\n",
    "        self.params['W1'] = weight_init_std * cp.random.randn(input_size, hidden_size) # １層目の重みをガウス分布で初期化\n",
    "        self.params['b1'] = cp.zeros(hidden_size) # １層目のバイアスを0で初期化\n",
    "        self.params['W2'] = weight_init_std * cp.random.randn(hidden_size, output_size) # ２層目の重みをガウス分布で初期化\n",
    "        self.params['b2'] = cp.zeros(output_size) # ２層目のバイアスを0で初期化\n",
    "    \n",
    "    def predict_cp(self, x):\n",
    "        '''現在のパラメータに基づいて出力を返す'''\n",
    "        a1 = cp.dot(x, self.params['W1']) + self.params['b1']\n",
    "        z1 = sigmoid_cp(a1)\n",
    "        a2 = cp.dot(z1, self.params['W2']) + self.params['b2']\n",
    "        y = softmax_cp(a2)\n",
    "        return y\n",
    "    \n",
    "    def loss_cp(self, x, t):\n",
    "        '''交差エントロピー誤差を計算する。xは入力値、tは正解データ。'''\n",
    "        y = self.predict_cp(x)\n",
    "        return cross_entropy_error_cp(y, t)\n",
    "    \n",
    "    def accuracy_cp(self, x, t):\n",
    "        '''推測精度を計算する。xは入力値、tは正解データ。'''\n",
    "        y = self.predict_cp(x)\n",
    "        pred_label = cp.argmax(y, axis=1)\n",
    "        answer_label = cp.argmax(t, axis=1)    \n",
    "        return cp.sum(y == t) / float(x.shape[0])\n",
    "    \n",
    "    def numerical_gradient_layers(self, x, t):\n",
    "        '''それぞれの重み、バイアスの勾配を計算する。'''\n",
    "        \n",
    "        loss_W = lambda W: self.loss_cp(x, t)\n",
    "        \n",
    "        grads = {}\n",
    "\n",
    "        grads['W1'] = numerical_gradient(loss_W, self.params['W1'])\n",
    "        grads['b1'] = numerical_gradient(loss_W, self.params['b1'])\n",
    "        grads['W2'] = numerical_gradient(loss_W, self.params['W2'])\n",
    "        grads['b2'] = numerical_gradient(loss_W, self.params['b2'])\n",
    "\n",
    "        return grads"
   ]
  },
  {
   "cell_type": "code",
   "execution_count": null,
   "id": "906b7ca0",
   "metadata": {},
   "outputs": [
    {
     "name": "stdout",
     "output_type": "stream",
     "text": [
      "W1: (784, 100)\n",
      "b1: (100,)\n",
      "W2: (100, 10)\n",
      "b2: (10,)\n",
      "\n",
      "y: (100, 10)\n"
     ]
    },
    {
     "ename": "KeyboardInterrupt",
     "evalue": "",
     "output_type": "error",
     "traceback": [
      "\u001b[31m---------------------------------------------------------------------------\u001b[39m",
      "\u001b[31mKeyboardInterrupt\u001b[39m                         Traceback (most recent call last)",
      "\u001b[36mCell\u001b[39m\u001b[36m \u001b[39m\u001b[32mIn[4]\u001b[39m\u001b[32m, line 16\u001b[39m\n\u001b[32m     14\u001b[39m \u001b[38;5;66;03m# ダミーの正解データも作成し、勾配を求めてみる（100枚分のダミーデータに関して１分程度かかった）\u001b[39;00m\n\u001b[32m     15\u001b[39m t = np.random.rand(\u001b[32m100\u001b[39m, \u001b[32m10\u001b[39m)\n\u001b[32m---> \u001b[39m\u001b[32m16\u001b[39m grads = \u001b[43mnet\u001b[49m\u001b[43m.\u001b[49m\u001b[43mnumerical_gradient_layers\u001b[49m\u001b[43m(\u001b[49m\u001b[43mx\u001b[49m\u001b[43m,\u001b[49m\u001b[43m \u001b[49m\u001b[43mt\u001b[49m\u001b[43m)\u001b[49m\n",
      "\u001b[36mCell\u001b[39m\u001b[36m \u001b[39m\u001b[32mIn[3]\u001b[39m\u001b[32m, line 38\u001b[39m, in \u001b[36mTwoLayerNet.numerical_gradient_layers\u001b[39m\u001b[34m(self, x, t)\u001b[39m\n\u001b[32m     34\u001b[39m loss_W = \u001b[38;5;28;01mlambda\u001b[39;00m W: \u001b[38;5;28mself\u001b[39m.loss(x, t)\n\u001b[32m     36\u001b[39m grads = {}\n\u001b[32m---> \u001b[39m\u001b[32m38\u001b[39m grads[\u001b[33m'\u001b[39m\u001b[33mW1\u001b[39m\u001b[33m'\u001b[39m] = \u001b[43mnumerical_gradient\u001b[49m\u001b[43m(\u001b[49m\u001b[43mloss_W\u001b[49m\u001b[43m,\u001b[49m\u001b[43m \u001b[49m\u001b[38;5;28;43mself\u001b[39;49m\u001b[43m.\u001b[49m\u001b[43mparams\u001b[49m\u001b[43m[\u001b[49m\u001b[33;43m'\u001b[39;49m\u001b[33;43mW1\u001b[39;49m\u001b[33;43m'\u001b[39;49m\u001b[43m]\u001b[49m\u001b[43m)\u001b[49m\n\u001b[32m     39\u001b[39m grads[\u001b[33m'\u001b[39m\u001b[33mb1\u001b[39m\u001b[33m'\u001b[39m] = numerical_gradient(loss_W, \u001b[38;5;28mself\u001b[39m.params[\u001b[33m'\u001b[39m\u001b[33mb1\u001b[39m\u001b[33m'\u001b[39m])\n\u001b[32m     40\u001b[39m grads[\u001b[33m'\u001b[39m\u001b[33mW2\u001b[39m\u001b[33m'\u001b[39m] = numerical_gradient(loss_W, \u001b[38;5;28mself\u001b[39m.params[\u001b[33m'\u001b[39m\u001b[33mW2\u001b[39m\u001b[33m'\u001b[39m])\n",
      "\u001b[36mCell\u001b[39m\u001b[36m \u001b[39m\u001b[32mIn[2]\u001b[39m\u001b[32m, line 43\u001b[39m, in \u001b[36mnumerical_gradient\u001b[39m\u001b[34m(f, x)\u001b[39m\n\u001b[32m     41\u001b[39m \u001b[38;5;66;03m# x_idx + h のときの値を計算\u001b[39;00m\n\u001b[32m     42\u001b[39m x[idx] = tmp + h\n\u001b[32m---> \u001b[39m\u001b[32m43\u001b[39m fxh1 = \u001b[43mf\u001b[49m\u001b[43m(\u001b[49m\u001b[43mx\u001b[49m\u001b[43m)\u001b[49m\n\u001b[32m     45\u001b[39m \u001b[38;5;66;03m# x_idx - h のときの値を計算\u001b[39;00m\n\u001b[32m     46\u001b[39m x[idx] = tmp - h\n",
      "\u001b[36mCell\u001b[39m\u001b[36m \u001b[39m\u001b[32mIn[3]\u001b[39m\u001b[32m, line 34\u001b[39m, in \u001b[36mTwoLayerNet.numerical_gradient_layers.<locals>.<lambda>\u001b[39m\u001b[34m(W)\u001b[39m\n\u001b[32m     31\u001b[39m \u001b[38;5;28;01mdef\u001b[39;00m\u001b[38;5;250m \u001b[39m\u001b[34mnumerical_gradient_layers\u001b[39m(\u001b[38;5;28mself\u001b[39m, x, t):\n\u001b[32m     32\u001b[39m \u001b[38;5;250m    \u001b[39m\u001b[33;03m'''それぞれの重み、バイアスの勾配を計算する。'''\u001b[39;00m\n\u001b[32m---> \u001b[39m\u001b[32m34\u001b[39m     loss_W = \u001b[38;5;28;01mlambda\u001b[39;00m W: \u001b[38;5;28;43mself\u001b[39;49m\u001b[43m.\u001b[49m\u001b[43mloss\u001b[49m\u001b[43m(\u001b[49m\u001b[43mx\u001b[49m\u001b[43m,\u001b[49m\u001b[43m \u001b[49m\u001b[43mt\u001b[49m\u001b[43m)\u001b[49m\n\u001b[32m     36\u001b[39m     grads = {}\n\u001b[32m     38\u001b[39m     grads[\u001b[33m'\u001b[39m\u001b[33mW1\u001b[39m\u001b[33m'\u001b[39m] = numerical_gradient(loss_W, \u001b[38;5;28mself\u001b[39m.params[\u001b[33m'\u001b[39m\u001b[33mW1\u001b[39m\u001b[33m'\u001b[39m])\n",
      "\u001b[36mCell\u001b[39m\u001b[36m \u001b[39m\u001b[32mIn[3]\u001b[39m\u001b[32m, line 21\u001b[39m, in \u001b[36mTwoLayerNet.loss\u001b[39m\u001b[34m(self, x, t)\u001b[39m\n\u001b[32m     19\u001b[39m \u001b[38;5;28;01mdef\u001b[39;00m\u001b[38;5;250m \u001b[39m\u001b[34mloss\u001b[39m(\u001b[38;5;28mself\u001b[39m, x, t):\n\u001b[32m     20\u001b[39m \u001b[38;5;250m    \u001b[39m\u001b[33;03m'''交差エントロピー誤差を計算する。xは入力値、tは正解データ。'''\u001b[39;00m\n\u001b[32m---> \u001b[39m\u001b[32m21\u001b[39m     y = \u001b[38;5;28;43mself\u001b[39;49m\u001b[43m.\u001b[49m\u001b[43mpredict\u001b[49m\u001b[43m(\u001b[49m\u001b[43mx\u001b[49m\u001b[43m)\u001b[49m\n\u001b[32m     22\u001b[39m     \u001b[38;5;28;01mreturn\u001b[39;00m cross_entropy_error(y, t)\n",
      "\u001b[36mCell\u001b[39m\u001b[36m \u001b[39m\u001b[32mIn[3]\u001b[39m\u001b[32m, line 14\u001b[39m, in \u001b[36mTwoLayerNet.predict\u001b[39m\u001b[34m(self, x)\u001b[39m\n\u001b[32m     12\u001b[39m \u001b[38;5;250m\u001b[39m\u001b[33;03m'''現在のパラメータに基づいて出力を返す'''\u001b[39;00m\n\u001b[32m     13\u001b[39m a1 = np.dot(x, \u001b[38;5;28mself\u001b[39m.params[\u001b[33m'\u001b[39m\u001b[33mW1\u001b[39m\u001b[33m'\u001b[39m]) + \u001b[38;5;28mself\u001b[39m.params[\u001b[33m'\u001b[39m\u001b[33mb1\u001b[39m\u001b[33m'\u001b[39m]\n\u001b[32m---> \u001b[39m\u001b[32m14\u001b[39m z1 = \u001b[43msigmoid\u001b[49m\u001b[43m(\u001b[49m\u001b[43ma1\u001b[49m\u001b[43m)\u001b[49m\n\u001b[32m     15\u001b[39m a2 = np.dot(z1, \u001b[38;5;28mself\u001b[39m.params[\u001b[33m'\u001b[39m\u001b[33mW2\u001b[39m\u001b[33m'\u001b[39m]) + \u001b[38;5;28mself\u001b[39m.params[\u001b[33m'\u001b[39m\u001b[33mb2\u001b[39m\u001b[33m'\u001b[39m]\n\u001b[32m     16\u001b[39m y = softmax(a2)\n",
      "\u001b[36mCell\u001b[39m\u001b[36m \u001b[39m\u001b[32mIn[2]\u001b[39m\u001b[32m, line 1\u001b[39m, in \u001b[36msigmoid\u001b[39m\u001b[34m(x)\u001b[39m\n\u001b[32m----> \u001b[39m\u001b[32m1\u001b[39m \u001b[38;5;28;01mdef\u001b[39;00m\u001b[38;5;250m \u001b[39m\u001b[34msigmoid\u001b[39m(x: np.ndarray | \u001b[38;5;28mfloat\u001b[39m):\n\u001b[32m      2\u001b[39m \u001b[38;5;250m    \u001b[39m\u001b[33;03m'''スカラーにも任意次元の配列にも適用可能なシグモイド関数'''\u001b[39;00m\n\u001b[32m      3\u001b[39m     \u001b[38;5;28;01mreturn\u001b[39;00m \u001b[32m1\u001b[39m / (\u001b[32m1\u001b[39m + np.exp(-x))\n",
      "\u001b[31mKeyboardInterrupt\u001b[39m: "
     ]
    }
   ],
   "source": [
    "net = TwoLayerNet(input_size=784, hidden_size=100, output_size=10)\n",
    "\n",
    "# それぞれのレイヤーのサイズを表示してみる\n",
    "print(f'W1: {net.params['W1'].shape}')\n",
    "print(f'b1: {net.params['b1'].shape}')\n",
    "print(f'W2: {net.params['W2'].shape}')\n",
    "print(f'b2: {net.params['b2'].shape}')\n",
    "\n",
    "# ダミーのミニバッチに対して推論を行ってみる\n",
    "x = np.random.rand(100, 784) # 100枚分のデータに相当するダミーデータ\n",
    "y = net.predict_cp(x)\n",
    "print(f'\\ny: {y.shape}')\n",
    "\n",
    "# ダミーの正解データも作成し、勾配を求めてみる（100枚分のダミーデータに関して１分程度かかった）\n",
    "t = np.random.rand(100, 10)\n",
    "grads = net.numerical_gradient_layers(x, t)"
   ]
  }
 ],
 "metadata": {
  "kernelspec": {
   "display_name": "venv",
   "language": "python",
   "name": "python3"
  },
  "language_info": {
   "codemirror_mode": {
    "name": "ipython",
    "version": 3
   },
   "file_extension": ".py",
   "mimetype": "text/x-python",
   "name": "python",
   "nbconvert_exporter": "python",
   "pygments_lexer": "ipython3",
   "version": "3.12.3"
  }
 },
 "nbformat": 4,
 "nbformat_minor": 5
}
